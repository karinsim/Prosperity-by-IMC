{
 "cells": [
  {
   "cell_type": "code",
   "execution_count": 46,
   "id": "56318069",
   "metadata": {},
   "outputs": [],
   "source": [
    "import numpy as np\n",
    "import pandas as pd\n",
    "import matplotlib.pyplot as plt\n",
    "from utils import *\n",
    "import statsmodels.api as sm"
   ]
  },
  {
   "cell_type": "code",
   "execution_count": 47,
   "id": "cacd8f79",
   "metadata": {},
   "outputs": [],
   "source": [
    "DIR = \"data/round-1/\""
   ]
  },
  {
   "cell_type": "code",
   "execution_count": 5,
   "id": "024cb154",
   "metadata": {},
   "outputs": [],
   "source": [
    "df1 = pd.read_csv(DIR+\"prices_round_1_day_-2.csv\", delimiter=';')\n",
    "df2 = pd.read_csv(DIR+\"prices_round_1_day_-1.csv\", delimiter=';')\n",
    "df3 = pd.read_csv(DIR+\"prices_round_1_day_0.csv\", delimiter=';')\n",
    "PnL = pd.read_csv(DIR+\"prices_day_1.csv\", delimiter=';')"
   ]
  },
  {
   "cell_type": "code",
   "execution_count": 6,
   "id": "2e6c6e98",
   "metadata": {},
   "outputs": [],
   "source": [
    "price = pd.concat((df1, df2, df3, PnL))"
   ]
  },
  {
   "cell_type": "code",
   "execution_count": null,
   "id": "96918ba3",
   "metadata": {},
   "outputs": [],
   "source": [
    "RESIN = price.loc[price[\"product\"]==\"RAINFOREST_RESIN\"].reset_index(drop=True)\n",
    "KELP = price.loc[price[\"product\"]==\"KELP\"].reset_index(drop=True)\n",
    "SQUID = price.loc[price[\"product\"]==\"SQUID_INK\"].reset_index(drop=True)"
   ]
  },
  {
   "cell_type": "code",
   "execution_count": 8,
   "id": "c2d471dd",
   "metadata": {},
   "outputs": [],
   "source": [
    "mp = get_midprice_mm(KELP)\n",
    "KELP[\"mid_price\"] = mp\n",
    "mp2 = get_midprice_mm(SQUID)\n",
    "SQUID[\"mid_price\"] = mp2"
   ]
  },
  {
   "cell_type": "code",
   "execution_count": 9,
   "id": "57d4597e",
   "metadata": {},
   "outputs": [],
   "source": [
    "kelp = KELP.loc[KELP[\"day\"]==0]\n",
    "squid = SQUID.loc[SQUID[\"day\"]==0]"
   ]
  },
  {
   "cell_type": "code",
   "execution_count": 127,
   "id": "414b9d1f",
   "metadata": {},
   "outputs": [],
   "source": [
    "# # get price data\n",
    "\n",
    "# infile = r\"data/round-1/log1.log\"\n",
    "# fp = open(infile)\n",
    "# start = False\n",
    "# start_signal = \"Activities log\"\n",
    "# end_signal = \"Trade History\"\n",
    "# outfile = DIR+\"log1-prices.txt\"\n",
    "\n",
    "# with open(outfile, \"w\") as f:\n",
    "\n",
    "#     for line in fp:\n",
    "\n",
    "#         if not start:\n",
    "#             if start_signal in line:\n",
    "#                 start = True\n",
    "\n",
    "#         elif start:\n",
    "#             if end_signal in line:\n",
    "#                 break\n",
    "            \n",
    "#             f.write(line)\n",
    "             \n",
    "# f.close()\n",
    "# fp.close()\n"
   ]
  },
  {
   "cell_type": "code",
   "execution_count": null,
   "id": "86779ebf",
   "metadata": {},
   "outputs": [],
   "source": [
    "# the entire trade history (not just own trades)\n",
    "infile = r\"data/round-1/log1.log\"\n",
    "hist = get_tradehistory(infile)\n",
    "# resin_hist = get_mytrades(hist)\n",
    "kelp_hist = get_mytrades(hist, \"KELP\")\n",
    "kelp_hist = kelp_hist.merge(kelp[[\"timestamp\", \"mid_price\"]], on=\"timestamp\", how=\"left\")\n",
    "# squid_hist = get_mytrades(hist, \"SQUID_INK\")\n",
    "# squid_hist = squid_hist.merge(squid[[\"timestamp\", \"mid_price\"]], on=\"timestamp\", how=\"left\")"
   ]
  },
  {
   "cell_type": "markdown",
   "id": "35c5a8e7",
   "metadata": {},
   "source": [
    "### RESIN"
   ]
  },
  {
   "cell_type": "code",
   "execution_count": null,
   "id": "dd45b9c9",
   "metadata": {},
   "outputs": [],
   "source": [
    "plt.figure(figsize=(10,3))\n",
    "plt.plot(kelp[\"timestamp\"]/100, PnL.loc[PnL[\"product\"]==\"RAINFOREST_RESIN\"][\"profit_and_loss\"], label=\"with mm bids\")\n",
    "plt.legend()\n",
    "plt.show()"
   ]
  },
  {
   "cell_type": "code",
   "execution_count": null,
   "id": "eec6d31b",
   "metadata": {},
   "outputs": [],
   "source": []
  },
  {
   "cell_type": "markdown",
   "id": "ab58021e",
   "metadata": {},
   "source": [
    "### KELP"
   ]
  },
  {
   "cell_type": "code",
   "execution_count": null,
   "id": "c5e0bf72",
   "metadata": {},
   "outputs": [],
   "source": [
    "plt.figure(figsize=(10,3))\n",
    "KELP[\"mid_price\"].plot()\n",
    "plt.axvline(10000, ls='dashed', lw=1)\n",
    "plt.axvline(20000, ls='dashed', lw=1)\n",
    "plt.axvline(30000, ls='dashed', lw=1)\n"
   ]
  },
  {
   "cell_type": "code",
   "execution_count": 132,
   "id": "cbddf81a",
   "metadata": {},
   "outputs": [],
   "source": [
    "kelp_buy = kelp_hist.loc[kelp_hist[\"buyer\"]==\"SUBMISSION\"]\n",
    "kelp_sell = kelp_hist.loc[kelp_hist[\"seller\"]==\"SUBMISSION\"]\n",
    "buy_time_kelp = list(kelp_buy[\"timestamp\"])\n",
    "buy_price_kelp = list(kelp_buy[\"price\"])\n",
    "sell_time_kelp = list(kelp_sell[\"timestamp\"])\n",
    "sell_price_kelp = list(kelp_sell[\"price\"])"
   ]
  },
  {
   "cell_type": "code",
   "execution_count": null,
   "id": "310b248d",
   "metadata": {},
   "outputs": [],
   "source": [
    "plt.figure(figsize=(10,3))\n",
    "plt.plot(kelp[\"timestamp\"]/100, kelp[\"mid_price\"])\n",
    "plt.plot(np.array(sell_time_kelp)/100, sell_price_kelp, lw=0, ms=10, marker='.', label=\"live sell\")\n",
    "plt.plot(np.array(buy_time_kelp)/100, buy_price_kelp, lw=0, ms=10, marker='.', label=\"live buy\")\n",
    "plt.legend()\n",
    "plt.show()\n",
    "\n",
    "plt.figure(figsize=(10,3))\n",
    "plt.plot(kelp[\"timestamp\"]/100, PnL.loc[PnL[\"product\"]==\"KELP\"][\"profit_and_loss\"])\n",
    "plt.show()"
   ]
  },
  {
   "cell_type": "code",
   "execution_count": null,
   "id": "947bae90",
   "metadata": {},
   "outputs": [],
   "source": []
  },
  {
   "cell_type": "code",
   "execution_count": null,
   "id": "4ab5ba2a",
   "metadata": {},
   "outputs": [],
   "source": []
  },
  {
   "cell_type": "markdown",
   "id": "36beee0c",
   "metadata": {},
   "source": [
    "### SQUID"
   ]
  },
  {
   "cell_type": "markdown",
   "id": "49184859",
   "metadata": {},
   "source": [
    "Series and its (standardised) difference"
   ]
  },
  {
   "cell_type": "code",
   "execution_count": null,
   "id": "5ff3f58f",
   "metadata": {},
   "outputs": [],
   "source": [
    "plt.figure(figsize=(10,3))\n",
    "SQUID[\"mid_price\"].plot()\n",
    "plt.axvline(10000, ls='dashed', lw=1)\n",
    "plt.axvline(20000, ls='dashed', lw=1)\n",
    "plt.axvline(30000, ls='dashed', lw=1)\n",
    "\n",
    "\n",
    "plt.figure(figsize=(8,2))\n",
    "diff_s = SQUID[\"mid_price\"].diff().dropna()\n",
    "diff_s = (diff_s - diff_s.mean()) / diff_s.std()\n",
    "diff_s.plot()\n",
    "plt.ylim((-20,20))"
   ]
  },
  {
   "cell_type": "markdown",
   "id": "5b044fe8",
   "metadata": {},
   "source": [
    "Is it mean reverting?"
   ]
  },
  {
   "cell_type": "code",
   "execution_count": null,
   "id": "bfd404fe",
   "metadata": {},
   "outputs": [],
   "source": [
    "from statsmodels.tsa.stattools import adfuller\n",
    "result = adfuller(SQUID[\"mid_price\"])\n",
    "print(f\"ADF Statistic: {result[0]}\")\n",
    "print(f\"p-value: {result[1]}\")"
   ]
  },
  {
   "cell_type": "markdown",
   "id": "bd27de21",
   "metadata": {},
   "source": [
    "The difference is stationary and mean-reverting!"
   ]
  },
  {
   "cell_type": "code",
   "execution_count": null,
   "id": "38391d28",
   "metadata": {},
   "outputs": [],
   "source": [
    "result = adfuller(diff_s)\n",
    "print(f\"ADF Statistic: {result[0]}\")\n",
    "print(f\"p-value: {result[1]}\")"
   ]
  },
  {
   "cell_type": "markdown",
   "id": "eef74a43",
   "metadata": {},
   "source": [
    "#### KELP"
   ]
  },
  {
   "cell_type": "code",
   "execution_count": null,
   "id": "546bb80c",
   "metadata": {},
   "outputs": [],
   "source": [
    "plt.figure(figsize=(8,2))\n",
    "diff_k = KELP[\"mid_price\"].diff().dropna()\n",
    "diff_k = (diff_k - diff_k.mean()) / diff_k.std()\n",
    "diff_k.plot()"
   ]
  },
  {
   "cell_type": "markdown",
   "id": "4fcbf3b1",
   "metadata": {},
   "source": [
    "Same story, series itself is not stationary but its difference is!"
   ]
  },
  {
   "cell_type": "code",
   "execution_count": null,
   "id": "c98efbc6",
   "metadata": {},
   "outputs": [],
   "source": [
    "result = adfuller(KELP[\"mid_price\"])\n",
    "print(f\"ADF Statistic: {result[0]}\")\n",
    "print(f\"p-value: {result[1]}\")"
   ]
  },
  {
   "cell_type": "code",
   "execution_count": null,
   "id": "a7a7b58a",
   "metadata": {},
   "outputs": [],
   "source": [
    "result = adfuller(diff_k)\n",
    "print(f\"ADF Statistic: {result[0]}\")\n",
    "print(f\"p-value: {result[1]}\")"
   ]
  },
  {
   "cell_type": "markdown",
   "id": "64e75b7e",
   "metadata": {},
   "source": [
    "Sadly no cointegration between them"
   ]
  },
  {
   "cell_type": "code",
   "execution_count": 38,
   "id": "47b03fc2",
   "metadata": {},
   "outputs": [],
   "source": [
    "y = SQUID[\"mid_price\"]\n",
    "x = KELP[\"mid_price\"]\n",
    "x = sm.add_constant(x)\n",
    "model = sm.OLS(y, x).fit()\n",
    "residuals = model.resid"
   ]
  },
  {
   "cell_type": "code",
   "execution_count": null,
   "id": "7bfcef83",
   "metadata": {},
   "outputs": [],
   "source": [
    "result = adfuller(residuals)\n",
    "print(f\"ADF Statistic: {result[0]}\")\n",
    "print(f\"p-value: {result[1]}\")"
   ]
  },
  {
   "cell_type": "markdown",
   "id": "bdf5f422",
   "metadata": {},
   "source": [
    "### Mean reversion strategy"
   ]
  },
  {
   "cell_type": "markdown",
   "id": "c8166de6",
   "metadata": {},
   "source": [
    "#### Bollinger band"
   ]
  },
  {
   "cell_type": "code",
   "execution_count": 11,
   "id": "af58a1d9",
   "metadata": {},
   "outputs": [],
   "source": [
    "class TRADE_SQUID:\n",
    "    def __init__(self, slow=26, fast=12, signal=9):  \n",
    "        self.slow = slow\n",
    "        self.fast = fast\n",
    "        self.signal = signal\n",
    "        self.squid_current = None\n",
    "        self.squid_previous = None\n",
    "        self.squid_diff = []\n",
    "        self.squid_flag = False\n",
    "        self.squid_upper = 0\n",
    "        self.squid_lower = 0\n",
    "        self.alpha_fast = 2 / (fast + 1)\n",
    "        self.alpha_slow = 2 / (slow + 1)\n",
    "        self.alpha_signal = 2 / (signal + 1)\n",
    "        self.ema_fast = None\n",
    "        self.ema_slow = None\n",
    "        self.macd = None\n",
    "        self.buy_times = []\n",
    "        self.sell_times = []\n",
    "        self.upper_band = []\n",
    "        self.lower_band = []\n",
    "    \n",
    "\n",
    "    def step(self, time, fairprice, window=20, mult=2., threshold=1., hits=3):\n",
    "        self.squid_current = fairprice\n",
    "        if self.squid_previous is not None:\n",
    "            self.squid_diff.append(self.squid_current - self.squid_previous)\n",
    "        self.squid_previous = self.squid_current\n",
    "\n",
    "        if not self.squid_flag:\n",
    "            if len(self.squid_diff) >= window:\n",
    "                self.squid_flag = True\n",
    "        else:\n",
    "            assert len(self.squid_diff) == window, \"length incorrect\"\n",
    "\n",
    "\n",
    "        if len(self.squid_diff) > 0:\n",
    "            current_diff = self.squid_diff[-1]\n",
    "            if self.ema_fast is None:\n",
    "                self.ema_fast = current_diff\n",
    "                self.ema_slow = current_diff\n",
    "                self.macd = self.ema_signal = 0 \n",
    "            else:\n",
    "                self.ema_fast = self.alpha_fast * current_diff + (1 - self.alpha_fast) * self.ema_fast\n",
    "                self.ema_slow = self.alpha_slow * current_diff + (1 - self.alpha_slow) * self.ema_slow\n",
    "                self.ema_signal = self.alpha_signal * self.macd + (1 - self.alpha_signal) * self.ema_signal\n",
    "                self.macd = self.ema_fast - self.ema_slow\n",
    "            \n",
    "        if self.squid_flag:\n",
    "            current_diff = self.squid_diff[-1]\n",
    "            sma = np.mean(np.array(self.squid_diff))\n",
    "            upper = sma + mult * np.std(np.array(self.squid_diff))\n",
    "            lower = sma - mult * np.std(np.array(self.squid_diff))\n",
    "\n",
    "            self.upper_band.append(upper)\n",
    "            self.lower_band.append(lower)\n",
    "\n",
    "            price_move =  (upper - lower) * threshold\n",
    "            if current_diff >= upper + price_move or current_diff <= lower - price_move:\n",
    "                if current_diff >= upper + price_move:\n",
    "                    self.squid_upper += 1\n",
    "                    # self.squid_lower = 0\n",
    "                if current_diff <= lower - price_move:\n",
    "                    self.squid_lower += 1\n",
    "                    # self.squid_upper = 0\n",
    "            else:\n",
    "                self.squid_upper = 0\n",
    "                self.squid_lower = 0\n",
    "            # buy/sell when midprice touches upper/lower band N=hits number of times consecutively\n",
    "            if self.squid_lower >= hits and self.macd > self.ema_signal:\n",
    "                self.buy_times.append(time)\n",
    "            if self.squid_upper >= hits and self.macd < self.ema_signal:\n",
    "                self.sell_times.append(time)\n",
    "                \n",
    "            self.squid_diff = self.squid_diff[1:]\n"
   ]
  },
  {
   "cell_type": "code",
   "execution_count": 53,
   "id": "fa11e884",
   "metadata": {},
   "outputs": [],
   "source": [
    "# times = SQUID.index\n",
    "# prices = SQUID[\"mid_price\"]\n",
    "# sell = SQUID[\"bid_price_1\"]\n",
    "# buy= SQUID[\"ask_price_1\"]\n",
    "\n",
    "\n",
    "times = squid.index\n",
    "prices = squid[\"mid_price\"]\n",
    "sell = squid[\"bid_price_1\"]\n",
    "buy= squid[\"ask_price_1\"]"
   ]
  },
  {
   "cell_type": "code",
   "execution_count": 62,
   "id": "cc41d2fc",
   "metadata": {},
   "outputs": [],
   "source": [
    "w = 20\n",
    "squid_trader = TRADE_SQUID(slow=20, fast=12, signal=0)\n",
    "for time in times:\n",
    "    squid_trader.step(time, prices[time], window=w, mult=1.5, threshold=0.0, hits=1)"
   ]
  },
  {
   "cell_type": "code",
   "execution_count": null,
   "id": "13f57b07",
   "metadata": {},
   "outputs": [],
   "source": [
    "plt.figure(figsize=(10,3))\n",
    "plt.plot(times, prices, alpha=0.5)\n",
    "plt.plot(squid_trader.sell_times, sell[squid_trader.sell_times], lw=0, ms=5, marker='.', label=\"sell\")\n",
    "plt.plot(squid_trader.buy_times, buy[squid_trader.buy_times], lw=0, ms=5, marker='.', label=\"buy\")\n",
    "plt.legend()"
   ]
  },
  {
   "cell_type": "markdown",
   "id": "df15f092",
   "metadata": {},
   "source": [
    "#### Z-score"
   ]
  },
  {
   "cell_type": "code",
   "execution_count": 442,
   "id": "86615617",
   "metadata": {},
   "outputs": [],
   "source": [
    "class OnlineZScore:\n",
    "    def __init__(self, window, threshold, hits=1):\n",
    "        self.window = window\n",
    "        self.threshold = threshold\n",
    "        self.hits = hits\n",
    "        self.upper = 0\n",
    "        self.current = None\n",
    "        self.previous = None\n",
    "        self.lower = 0\n",
    "        self.prices = []\n",
    "        self.long = []\n",
    "        self.short = []\n",
    "\n",
    "    def update(self, time, price, diff=False):\n",
    "\n",
    "        if diff:\n",
    "            self.current = price\n",
    "            if self.previous is not None:\n",
    "                self.prices.append(self.current - self.previous)\n",
    "            self.previous = price\n",
    "        else:\n",
    "            self.prices.append(price)\n",
    "\n",
    "        if len(self.prices) > self.window:\n",
    "            self.prices.pop(0)\n",
    "\n",
    "        if len(self.prices) < self.window:\n",
    "            return 0.0\n",
    "\n",
    "        arr = np.array(self.prices)\n",
    "        mean = np.mean(arr)\n",
    "        std = np.std(arr)\n",
    "\n",
    "        if std == 0:\n",
    "            return 0.0\n",
    "\n",
    "        z = (self.prices[-1] - mean) / std\n",
    "\n",
    "        if z < -self.threshold:\n",
    "            self.lower += 1\n",
    "            self.upper = 0\n",
    "        elif z > self.threshold:\n",
    "            self.upper += 1\n",
    "            self.lower = 0\n",
    "        else:\n",
    "            self.lower = 0\n",
    "            self.upper = 0\n",
    "        \n",
    "        if self.upper >= self.hits:\n",
    "            self.short.append(time)\n",
    "        elif self.lower >= self.hits:\n",
    "            self.long.append(time)\n",
    "        \n",
    "        return z\n"
   ]
  },
  {
   "cell_type": "code",
   "execution_count": 443,
   "id": "281e6a82",
   "metadata": {},
   "outputs": [],
   "source": [
    "prices = list(squid[\"mid_price\"])\n",
    "bid = list(squid[\"bid_price_1\"])\n",
    "ask = list(squid[\"ask_price_1\"])"
   ]
  },
  {
   "cell_type": "code",
   "execution_count": 444,
   "id": "8c5d6902",
   "metadata": {},
   "outputs": [],
   "source": [
    "def find_consecutive(indices, N):\n",
    "    consecutive = []\n",
    "    for i in range(len(indices) - N + 1):\n",
    "        if all(indices[i + j] + 1 == indices[i + j + 1] for j in range(N - 1)):\n",
    "            consecutive.append(indices[i])\n",
    "    return consecutive"
   ]
  },
  {
   "cell_type": "code",
   "execution_count": 465,
   "id": "22400645",
   "metadata": {},
   "outputs": [],
   "source": [
    "hits = 2\n",
    "hits_signal = 1\n",
    "scorer = OnlineZScore(20, 1.25, hits)\n",
    "for i in range(len(prices)):\n",
    "    scorer.update(i, prices[i])\n",
    "sell_signal = find_consecutive(scorer.short, hits_signal)\n",
    "buy_signal = find_consecutive(scorer.long, hits_signal)"
   ]
  },
  {
   "cell_type": "code",
   "execution_count": 466,
   "id": "4fddd7ca",
   "metadata": {},
   "outputs": [
    {
     "data": {
      "text/plain": [
       "<matplotlib.legend.Legend at 0x14aff8110>"
      ]
     },
     "execution_count": 466,
     "metadata": {},
     "output_type": "execute_result"
    },
    {
     "data": {
      "image/png": "[encoded data removed]",
      "text/plain": [
       "<Figure size 1000x300 with 1 Axes>"
      ]
     },
     "metadata": {},
     "output_type": "display_data"
    }
   ],
   "source": [
    "plt.figure(figsize=(10,3))\n",
    "plt.plot(prices)\n",
    "plt.plot(sell_signal, np.array(bid)[sell_signal], lw=0, ms=10, marker='.', label=\"short\")\n",
    "plt.plot(buy_signal, np.array(ask)[buy_signal], lw=0, ms=10, marker='.', label=\"long\")\n",
    "plt.legend()"
   ]
  },
  {
   "cell_type": "markdown",
   "id": "e2488397",
   "metadata": {},
   "source": [
    "#### OU trader"
   ]
  },
  {
   "cell_type": "code",
   "execution_count": null,
   "id": "41edc67f",
   "metadata": {},
   "outputs": [],
   "source": [
    "class OUTrader:\n",
    "    def __init__(self, z_entry=1.0, z_exit=0.2, alpha=0.05):\n",
    "        self.alpha = alpha\n",
    "        self.ema = None\n",
    "        self.ema_var = 1e-5\n",
    "        self.prev_x = None\n",
    "        self.sum_xx = 0.0\n",
    "        self.sum_xy = 0.0\n",
    "        self.ab_count = 0\n",
    "\n",
    "        self.z_entry = z_entry\n",
    "        self.z_exit = z_exit\n",
    "        self.position = 0  # -1 short, 1 long, 0 flat\n",
    "\n",
    "    def update(self, x):\n",
    "        if self.ema is None:\n",
    "            self.ema = x\n",
    "            self.ema_var = 0.0\n",
    "        else:\n",
    "            delta = x - self.ema\n",
    "            self.ema += self.alpha * delta\n",
    "            self.ema_var = (1 - self.alpha) * (self.ema_var + self.alpha * delta**2)\n",
    "\n",
    "        if self.prev_x is not None:\n",
    "            self.sum_xx += self.prev_x ** 2\n",
    "            self.sum_xy += self.prev_x * x\n",
    "            self.ab_count += 1\n",
    "\n",
    "        self.prev_x = x\n",
    "\n",
    "    def get_params(self):\n",
    "        if self.ab_count < 10 or self.sum_xx == 0:\n",
    "            return None\n",
    "\n",
    "        a = self.sum_xy / self.sum_xx\n",
    "        a = np.clip(a, 1e-5, 0.999)\n",
    "        b = self.ema * (1 - a)\n",
    "        theta = -np.log(a)\n",
    "        sigma = np.sqrt(self.ema_var) * np.sqrt(2 * theta / (1 - a**2))\n",
    "        mu = b / (1 - a)\n",
    "\n",
    "        return mu, theta, sigma\n",
    "\n",
    "    def get_zscore(self, x):\n",
    "        params = self.get_params()\n",
    "        if params is None:\n",
    "            return None\n",
    "        mu, _, sigma = params\n",
    "        return (x - mu) / sigma if sigma > 1e-5 else 0.0\n",
    "\n",
    "    def signal(self, x):\n",
    "        z = self.get_zscore(x)\n",
    "        if z is None:\n",
    "            return \"HOLD\"\n",
    "\n",
    "        if self.position == 0:\n",
    "            if z > self.z_entry:\n",
    "                self.position = -1\n",
    "                return \"SELL\"\n",
    "            elif z < -self.z_entry:\n",
    "                self.position = 1\n",
    "                return \"BUY\"\n",
    "        elif self.position == 1 and z > -self.z_exit:\n",
    "            self.position = 0\n",
    "            return \"CLOSE\"\n",
    "        elif self.position == -1 and z < self.z_exit:\n",
    "            self.position = 0\n",
    "            return \"CLOSE\"\n",
    "\n",
    "        return \"HOLD\"\n"
   ]
  },
  {
   "cell_type": "code",
   "execution_count": 372,
   "id": "c019ef9b",
   "metadata": {},
   "outputs": [],
   "source": [
    "prev = list(SQUID.loc[SQUID[\"day\"]==-1][\"mid_price\"])[-10:]"
   ]
  },
  {
   "cell_type": "code",
   "execution_count": 380,
   "id": "af426cc0",
   "metadata": {},
   "outputs": [],
   "source": [
    "ou_trader = OUTrader(z_entry=1., z_exit=0.2, alpha=0.05)   \n",
    "\n",
    "for price in prev:\n",
    "    ou_trader.update(price)\n",
    "\n",
    "\n",
    "buy_times, sell_times, exit_times = [], [], []\n",
    "pos = 0\n",
    "\n",
    "for i in range(len(prices)):\n",
    "    ou_trader.update(prices[i])\n",
    "    action = ou_trader.signal(prices[i])\n",
    "\n",
    "    if action == \"CLOSE\":\n",
    "        exit_times.append(i)\n",
    "        pos = 0\n",
    "    elif action == \"BUY\":\n",
    "        buy_times.append(i)\n",
    "        pos += 1\n",
    "    elif action == \"SELL\":\n",
    "        sell_times.append(i)\n",
    "        pos -= 1\n"
   ]
  },
  {
   "cell_type": "code",
   "execution_count": null,
   "id": "19b2fdf0",
   "metadata": {},
   "outputs": [],
   "source": [
    "plt.figure(figsize=(10,3))\n",
    "plt.plot(prices)\n",
    "plt.plot(sell_times, np.array(bid)[sell_times], lw=0, ms=10, marker='.', label=\"short\")\n",
    "plt.plot(buy_times, np.array(ask)[buy_times], lw=0, ms=10, marker='.', label=\"long\")\n",
    "plt.plot(exit_times, np.array(ask)[exit_times], lw=0, ms=10, marker='.', label=\"exit\")\n",
    "plt.legend()"
   ]
  },
  {
   "cell_type": "code",
   "execution_count": null,
   "id": "1b58bf9d",
   "metadata": {},
   "outputs": [],
   "source": []
  },
  {
   "cell_type": "markdown",
   "id": "32ab55ec",
   "metadata": {},
   "source": [
    "### Forecast engine"
   ]
  },
  {
   "cell_type": "code",
   "execution_count": 633,
   "id": "9726ccec",
   "metadata": {},
   "outputs": [],
   "source": [
    "DIR2024= \"data/round-1/2024/\""
   ]
  },
  {
   "cell_type": "code",
   "execution_count": 650,
   "id": "69941f48",
   "metadata": {},
   "outputs": [],
   "source": [
    "df1a = pd.read_csv(DIR2024+\"prices_round_1_day_-2.csv\", delimiter=\";\")\n",
    "df2a = pd.read_csv(DIR2024+\"prices_round_1_day_-1.csv\", delimiter=\";\")\n",
    "df3a = pd.read_csv(DIR2024+\"prices_round_1_day_0.csv\", delimiter=\";\")\n",
    "df4a = pd.read_csv(DIR2024+\"prices_day_1b.csv\", delimiter=\";\")"
   ]
  },
  {
   "cell_type": "code",
   "execution_count": 652,
   "id": "1b12962c",
   "metadata": {},
   "outputs": [],
   "source": [
    "price = pd.concat((df1a, df2a, df3a, df4a))\n",
    "STARFRUIT = price.loc[price[\"product\"]==\"STARFRUIT\"]\n",
    "mp_sf = get_midprice_mm(STARFRUIT)\n",
    "STARFRUIT.loc[:, \"mid_price\"] = mp_sf"
   ]
  },
  {
   "cell_type": "code",
   "execution_count": null,
   "id": "747b846c",
   "metadata": {},
   "outputs": [],
   "source": [
    "plt.plot((mp_sf - mp_sf.mean())/mp_sf.std(), label=\"2024\")\n",
    "plt.plot((SQUID[\"mid_price\"] - SQUID[\"mid_price\"].mean())/SQUID[\"mid_price\"].std(), label=\"2025\")\n",
    "plt.legend()"
   ]
  },
  {
   "cell_type": "code",
   "execution_count": 796,
   "id": "3405f714",
   "metadata": {},
   "outputs": [],
   "source": [
    "from sklearn.preprocessing import StandardScaler\n",
    "\n",
    "y = SQUID[\"mid_price\"].diff().dropna().array\n",
    "X = np.diff(mp_sf)[:len(y)]\n",
    "\n",
    "scaler = StandardScaler()\n",
    "X = scaler.fit_transform(X.reshape(-1, 1))\n",
    "\n",
    "split = int(len(y) * 0.8)\n",
    "\n",
    "X_train = X[:split]\n",
    "y_train = y[:split]\n",
    "X_test = X[split:]\n",
    "\n",
    "y_scaler = StandardScaler()\n",
    "y_train = y_scaler.fit_transform(y_train.reshape(-1, 1)).ravel()\n"
   ]
  },
  {
   "cell_type": "code",
   "execution_count": 804,
   "id": "d6b6b120",
   "metadata": {},
   "outputs": [],
   "source": [
    "from xgboost import XGBRegressor\n",
    "\n",
    "model = XGBRegressor(n_estimators=300, max_depth=6, learning_rate=0.05, reg_lambda=0.1, reg_alpha=0)\n",
    "# model = XGBRegressor(n_estimators=150, max_depth=10, learning_rate=0.05)\n",
    "model.fit(X_train, y_train)\n",
    "\n",
    "y_pred_scaled = model.predict(X_test)\n",
    "y_pred = y_scaler.inverse_transform(y_pred_scaled.reshape(-1, 1)).ravel()"
   ]
  },
  {
   "cell_type": "code",
   "execution_count": null,
   "id": "2ed2fd42",
   "metadata": {},
   "outputs": [],
   "source": [
    "plt.plot(y)\n",
    "plt.plot(range(split, len(y)), y[split:], label=\"true\")\n",
    "plt.plot(range(split, len(y)), y_pred, label=\"predicted\")\n",
    "plt.legend()\n",
    "plt.ylim((-20,20))"
   ]
  },
  {
   "cell_type": "markdown",
   "id": "5e9df9e7",
   "metadata": {},
   "source": [
    "#### MISSION ABORT"
   ]
  },
  {
   "cell_type": "markdown",
   "id": "e874e33d",
   "metadata": {},
   "source": [
    "#### Live performance"
   ]
  },
  {
   "cell_type": "code",
   "execution_count": 467,
   "id": "b20512e7",
   "metadata": {},
   "outputs": [],
   "source": [
    "# day0 prices\n",
    "squid = squid.loc[squid[\"timestamp\"] <= 99900].reset_index(drop=True)"
   ]
  },
  {
   "cell_type": "code",
   "execution_count": 468,
   "id": "21343576",
   "metadata": {},
   "outputs": [],
   "source": [
    "# # day 1 prices\n",
    "# squid1 = PnL.loc[PnL[\"product\"]==\"SQUID_INK\"]\n",
    "# squid1 = squid1.loc[squid1[\"timestamp\"] <= 99900].reset_index(drop=True)"
   ]
  },
  {
   "cell_type": "code",
   "execution_count": 475,
   "id": "87a9d5a7",
   "metadata": {},
   "outputs": [],
   "source": [
    "infile = r\"data/round-1/squid.log\"\n",
    "hist = get_tradehistory(infile)\n",
    "squid_hist = get_mytrades(hist, \"SQUID_INK\")\n",
    "squid_hist = squid_hist.merge(squid[[\"timestamp\", \"mid_price\"]], on=\"timestamp\", how=\"left\")"
   ]
  },
  {
   "cell_type": "code",
   "execution_count": 476,
   "id": "3ebeaec2",
   "metadata": {},
   "outputs": [],
   "source": [
    "squid_buy = squid_hist.loc[squid_hist[\"buyer\"]==\"SUBMISSION\"]\n",
    "squid_sell = squid_hist.loc[squid_hist[\"seller\"]==\"SUBMISSION\"]\n",
    "buy_time = list(squid_buy[\"timestamp\"])\n",
    "buy_price = list(squid_buy[\"price\"])\n",
    "sell_time = list(squid_sell[\"timestamp\"])\n",
    "sell_price = list(squid_sell[\"price\"])"
   ]
  },
  {
   "cell_type": "code",
   "execution_count": 485,
   "id": "d99ca116",
   "metadata": {},
   "outputs": [
    {
     "data": {
      "image/png": "[encoded data removed]",
      "text/plain": [
       "<Figure size 1000x300 with 1 Axes>"
      ]
     },
     "metadata": {},
     "output_type": "display_data"
    }
   ],
   "source": [
    "plt.figure(figsize=(10,3))\n",
    "plt.plot(squid[\"timestamp\"]/100, squid[\"mid_price\"], lw=0.5)\n",
    "plt.plot(np.array(sell_time)/100, sell_price, lw=0, ms=10, marker='.', label=\"live sell\")\n",
    "plt.plot(np.array(buy_time)/100, buy_price, lw=0, ms=10, marker='.', label=\"live buy\")\n",
    "\n",
    "plt.axvline(274)\n",
    "plt.legend()\n",
    "plt.show()\n",
    "# plt.figure(figsize=(10,3))\n",
    "# plt.plot(squid[\"timestamp\"]/100, PnL.loc[PnL[\"product\"]==\"SQUID_INK\"][\"profit_and_loss\"])\n",
    "# plt.show()"
   ]
  },
  {
   "cell_type": "code",
   "execution_count": null,
   "id": "d7c3a57e",
   "metadata": {},
   "outputs": [],
   "source": []
  },
  {
   "cell_type": "code",
   "execution_count": null,
   "id": "2977c81e",
   "metadata": {},
   "outputs": [],
   "source": []
  },
  {
   "cell_type": "markdown",
   "id": "d7b8a20b",
   "metadata": {},
   "source": [
    "#### Correlation analysis and prediction"
   ]
  },
  {
   "cell_type": "code",
   "execution_count": 9,
   "id": "0a577227",
   "metadata": {},
   "outputs": [],
   "source": [
    "k = (KELP[\"mid_price\"] - KELP[\"mid_price\"].mean()) / KELP[\"mid_price\"].std()\n",
    "s = (SQUID[\"mid_price\"] - SQUID[\"mid_price\"].mean()) / SQUID[\"mid_price\"].std()"
   ]
  },
  {
   "cell_type": "code",
   "execution_count": null,
   "id": "809cac45",
   "metadata": {},
   "outputs": [],
   "source": [
    "k.corr(s)"
   ]
  },
  {
   "cell_type": "code",
   "execution_count": null,
   "id": "c55410d9",
   "metadata": {},
   "outputs": [],
   "source": [
    "plt.figure(figsize=(10,3))\n",
    "k.plot()\n",
    "s.plot()"
   ]
  },
  {
   "cell_type": "code",
   "execution_count": 60,
   "id": "5564f593",
   "metadata": {},
   "outputs": [],
   "source": [
    "from sklearn.preprocessing import MinMaxScaler\n",
    "\n",
    "df = pd.DataFrame({'kelp': KELP[\"mid_price\"], 'squid': SQUID[\"mid_price\"]})\n",
    "\n",
    "scaler = MinMaxScaler(feature_range=(0, 1))\n",
    "scaled_data = scaler.fit_transform(df)\n",
    "\n",
    "def create_dataset(data, time_step=1):\n",
    "    X, y = [], []\n",
    "    for i in range(len(data) - time_step):\n",
    "        X.append(data[i:(i + time_step)])\n",
    "        y.append(data[i + time_step])\n",
    "    return np.array(X), np.array(y)\n",
    "\n",
    "\n",
    "time_step = 60  \n",
    "\n",
    "X, y = create_dataset(scaled_data, time_step)\n",
    "\n",
    "train_size = X.shape[0] - 1000\n",
    "X_train, X_test = X[:train_size], X[train_size:]\n",
    "y_train, y_test = y[:train_size], y[train_size:]\n"
   ]
  },
  {
   "cell_type": "code",
   "execution_count": null,
   "id": "9111d917",
   "metadata": {},
   "outputs": [],
   "source": [
    "import tensorflow as tf\n",
    "from tensorflow.keras.models import Sequential\n",
    "from tensorflow.keras.layers import LSTM, Dense, Dropout\n",
    "\n",
    "# Build the LSTM model\n",
    "model = Sequential()\n",
    "model.add(LSTM(units=50, return_sequences=True, input_shape=(X_train.shape[1], X_train.shape[2])))\n",
    "model.add(Dropout(0.2))\n",
    "model.add(LSTM(units=50, return_sequences=False))\n",
    "model.add(Dropout(0.2))\n",
    "model.add(Dense(units=2)) \n",
    "\n",
    "model.compile(optimizer='adam', loss='mean_squared_error')\n",
    "model.fit(X_train, y_train, epochs=10, batch_size=32)\n"
   ]
  },
  {
   "cell_type": "code",
   "execution_count": null,
   "id": "9dc29af8",
   "metadata": {},
   "outputs": [],
   "source": [
    "y_pred = model.predict(X_test)\n",
    "y_pred_rescaled = scaler.inverse_transform(y_pred)\n",
    "y_test_rescaled = scaler.inverse_transform(y_test)\n"
   ]
  },
  {
   "cell_type": "code",
   "execution_count": null,
   "id": "16002dd5",
   "metadata": {},
   "outputs": [],
   "source": [
    "from sklearn.metrics import mean_squared_error\n",
    "\n",
    "rmse = np.sqrt(mean_squared_error(y_test_rescaled, y_pred_rescaled))\n",
    "print(f'RMSE: {rmse}')\n"
   ]
  },
  {
   "cell_type": "code",
   "execution_count": null,
   "id": "cfe4b816",
   "metadata": {},
   "outputs": [],
   "source": [
    "plt.figure(figsize=(10, 3))\n",
    "plt.plot(kelp[\"timestamp\"]/100, kelp[\"mid_price\"], label=\"true\")\n",
    "plt.plot(y_pred_rescaled[:, 0], label='predicted')\n",
    "plt.legend()\n",
    "plt.show()\n",
    "\n",
    "plt.figure(figsize=(10, 3))\n",
    "plt.plot(squid[\"timestamp\"]/100, squid[\"mid_price\"], label=\"true\")\n",
    "plt.plot(y_pred_rescaled[:, 1], label='predicted')\n",
    "plt.legend()\n",
    "plt.show()"
   ]
  },
  {
   "cell_type": "code",
   "execution_count": null,
   "id": "5e4e7e89",
   "metadata": {},
   "outputs": [],
   "source": []
  },
  {
   "cell_type": "code",
   "execution_count": null,
   "id": "36bab8ef",
   "metadata": {},
   "outputs": [],
   "source": []
  },
  {
   "cell_type": "code",
   "execution_count": null,
   "id": "46dffcd1",
   "metadata": {},
   "outputs": [],
   "source": []
  },
  {
   "cell_type": "code",
   "execution_count": null,
   "id": "718a0747",
   "metadata": {},
   "outputs": [],
   "source": []
  }
 ],
 "metadata": {
  "kernelspec": {
   "display_name": ".venv",
   "language": "python",
   "name": "python3"
  },
  "language_info": {
   "codemirror_mode": {
    "name": "ipython",
    "version": 3
   },
   "file_extension": ".py",
   "mimetype": "text/x-python",
   "name": "python",
   "nbconvert_exporter": "python",
   "pygments_lexer": "ipython3",
   "version": "3.11.10"
  }
 },
 "nbformat": 4,
 "nbformat_minor": 5
}
